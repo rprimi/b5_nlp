{
  "nbformat": 4,
  "nbformat_minor": 0,
  "metadata": {
    "colab": {
      "provenance": [],
      "machine_shape": "hm",
      "gpuType": "V100",
      "authorship_tag": "ABX9TyPezP5lmsfTgW/TtcDb9am8",
      "include_colab_link": true
    },
    "kernelspec": {
      "name": "ir",
      "display_name": "R"
    },
    "language_info": {
      "name": "R"
    },
    "accelerator": "GPU"
  },
  "cells": [
    {
      "cell_type": "markdown",
      "metadata": {
        "id": "view-in-github",
        "colab_type": "text"
      },
      "source": [
        "<a href=\"https://colab.research.google.com/github/rprimi/b5_nlp/blob/main/m2_lstm.ipynb\" target=\"_parent\"><img src=\"https://colab.research.google.com/assets/colab-badge.svg\" alt=\"Open In Colab\"/></a>"
      ]
    },
    {
      "cell_type": "code",
      "source": [
        "pacakges <- c(\"tidyverse\", \"keras\", \"psych\")\n",
        "install.packages(pacakges)\n",
        "\n",
        "install.packages(\"readr\")\n",
        "install.packages(\"zip\")\n"
      ],
      "metadata": {
        "colab": {
          "base_uri": "https://localhost:8080/"
        },
        "id": "zu3HAEog7BsJ",
        "outputId": "e3597acc-e437-475b-8846-74582bb79d12"
      },
      "execution_count": 9,
      "outputs": [
        {
          "output_type": "stream",
          "name": "stderr",
          "text": [
            "Installing package into ‘/usr/local/lib/R/site-library’\n",
            "(as ‘lib’ is unspecified)\n",
            "\n"
          ]
        }
      ]
    },
    {
      "cell_type": "code",
      "execution_count": 10,
      "metadata": {
        "colab": {
          "base_uri": "https://localhost:8080/"
        },
        "id": "wMnn2iO95jpK",
        "outputId": "b1cb1015-5c10-436b-ca35-aebd1a9ccc58"
      },
      "outputs": [
        {
          "output_type": "stream",
          "name": "stderr",
          "text": [
            "\n",
            "Attaching package: ‘zip’\n",
            "\n",
            "\n",
            "The following objects are masked from ‘package:utils’:\n",
            "\n",
            "    unzip, zip\n",
            "\n",
            "\n"
          ]
        }
      ],
      "source": [
        "library(tidyverse)\n",
        "library(keras)\n",
        "library(psych)\n",
        "library(readr)\n",
        "library(zip)\n"
      ]
    },
    {
      "cell_type": "code",
      "source": [
        "load(\"base_bfi_nlp.RData\")"
      ],
      "metadata": {
        "id": "u179Fq4m8HUe"
      },
      "execution_count": 4,
      "outputs": []
    },
    {
      "cell_type": "code",
      "source": [
        "samples <- db_textos_splited$texto_dividido\n",
        "\n",
        "tokenizer <- text_tokenizer(\n",
        "    lower = TRUE )  %>%\n",
        "    fit_text_tokenizer(samples)\n",
        "\n",
        "word_index <- tokenizer$word_index\n",
        "\n",
        "sequences <- texts_to_sequences(tokenizer, samples)\n",
        "\n",
        "cat(\"Found\", length(word_index), \"unique tokens.\\n\")\n",
        ""
      ],
      "metadata": {
        "id": "JpE1zzRI8YIM"
      },
      "execution_count": null,
      "outputs": []
    },
    {
      "cell_type": "code",
      "source": [
        "library(zip)\n",
        "\n",
        "# Download the zip file\n",
        "download.file(\"http://143.107.183.175:22980/download.php?file=embeddings/glove/glove_s600.zip\", destfile = \"file.zip\")\n",
        "\n",
        "# Read the CSV file from the zip file\n",
        "glove_pt_600 <- read.zip(\"file.zip\", \"file.csv\")\n",
        "\n"
      ],
      "metadata": {
        "id": "zmOriJcI8ptj"
      },
      "execution_count": null,
      "outputs": []
    },
    {
      "cell_type": "code",
      "source": [
        " load(\"nilc_wv_glove_600d.RData\")\n",
        " ls()\n",
        "\n",
        "\n",
        " glove_pt_600 = data.table::fread(\n",
        "    file = \"~/Downloads/glove_s600.txt\",\n",
        "    encoding = 'UTF-8',\n",
        "    # nrows = 100,\n",
        "    skip = 1\n",
        "  )\n",
        "\n",
        "  names(nilc_wv_glove_600d.RData)\n",
        "\n",
        "  db_textos_embeddings <- db_textos_splited %>%\n",
        "    unnest_tokens(word, texto_dividido) %>%\n",
        "    left_join(glove_pt_600, by =c(\"word\"=\"V1\")) %>%\n",
        "    select(-word) %>%\n",
        "    group_by(id, id_divisao) %>%\n",
        "    dplyr::summarise(\n",
        "    across(V2:V601, mean, na.rm=TRUE)\n",
        ")"
      ],
      "metadata": {
        "colab": {
          "base_uri": "https://localhost:8080/",
          "height": 107
        },
        "id": "hbWg602w-ZwS",
        "outputId": "30802dd0-88a0-4844-9b28-9f90e6231525"
      },
      "execution_count": 14,
      "outputs": [
        {
          "output_type": "error",
          "ename": "ERROR",
          "evalue": "ignored",
          "traceback": [
            "Error in eval(expr, envir, enclos): object 'nilc_wv_glove_600d.RData' not found\nTraceback:\n"
          ]
        }
      ]
    },
    {
      "cell_type": "code",
      "source": [
        "\n",
        "# Setting the embedding matrix\n",
        "\n",
        "   vocabulary <- tibble(\n",
        "     word = names(word_index),\n",
        "     index = word_index\n",
        "   )\n",
        "\n",
        "   vocabulary <- vocabulary %>%\n",
        "    left_join(glove_pt_600, by =c(\"word\"=\"V1\"))\n",
        "\n",
        "  names(vocabulary)\n",
        "\n",
        "# Function adapted from Chalot book\n",
        "  prepare_embedding_matrix <- function(num_words, EMBEDDING_DIM, word_index) {\n",
        "      MAX_NUM_WORDS = num_words\n",
        "      embedding_matrix <- matrix(0L, nrow = num_words+1, ncol = EMBEDDING_DIM)\n",
        "      for (word in names(word_index)) {\n",
        "        index <- word_index[[word]]\n",
        "        if (index >= MAX_NUM_WORDS)\n",
        "          next\n",
        "        embedding_vector <- as.numeric(vocabulary[vocabulary$word == word, 3:602])\n",
        "        if (!is.null(embedding_vector)) {\n",
        "          # words not found in embedding index will be all-zeros.\n",
        "          embedding_matrix[index+1,] <- embedding_vector\n",
        "        }\n",
        "      }\n",
        "      embedding_matrix\n",
        "    }\n",
        "\n",
        "# Creates embedding matrix\n",
        "     embedding_matrix <- prepare_embedding_matrix(\n",
        "         num_words = 66128,\n",
        "         EMBEDDING_DIM = 600,\n",
        "         word_index = word_index)\n",
        "\n",
        "# Fills empty rows with random number\n",
        "    rnd <- runif(n=sum(is.na(embedding_matrix)), min = 0, max = .04)\n",
        "    embedding_matrix[is.na(embedding_matrix)] <- rnd\n",
        "\n",
        "# Test it\n",
        "   table(is.na(embedding_matrix))\n",
        "\n",
        "# See shape of embedding matrix and first row (needs to be zero, don't know why)\n",
        "# https://github.com/rstudio/keras/issues/302)\n",
        "   dim(embedding_matrix)\n",
        "   embedding_matrix[1, ]\n",
        ""
      ],
      "metadata": {
        "id": "zzM0nd-D-ver"
      },
      "execution_count": null,
      "outputs": []
    },
    {
      "cell_type": "code",
      "source": [
        "\n",
        "    hist(map_dbl(sequences, length))\n",
        "\n",
        "# Shuffle data\n",
        "    set.seed(8)\n",
        "\n",
        "    indices <- sample(1:length(sequences))\n",
        "\n",
        "    prop_train <- .82\n",
        "    maxlen <-250\n",
        "\n",
        "    train_indices <- 1: round(prop_train*length(sequences), 0)\n",
        "    test_indices <-  (round(prop_train*length(sequences), 0)+1) : length(sequences)\n",
        "\n",
        "\n",
        "    x_train <- pad_sequences(sequences[indices[train_indices]], maxlen = maxlen)\n",
        "    x_test <- pad_sequences(sequences[indices[test_indices]], maxlen = maxlen)\n",
        "\n",
        "    db_ys <- db_textos_splited[ , \"id\"] %>%\n",
        "      as.data.frame() %>%\n",
        "      set_names(\"id\") %>%\n",
        "      mutate(id = as.numeric(id)) %>%\n",
        "      left_join( {db_bfi %>% select(id, O_rec:N_vlti_rec)}, by = \"id\" )\n",
        "\n",
        "\n",
        "    y_train <- as.matrix(db_ys[indices[train_indices] , 2:6])\n",
        "    y_test <-  as.matrix(db_ys[indices[test_indices] , 2:6])\n",
        "\n",
        "    dim(x_train)\n",
        "    dim(x_test)\n",
        "\n",
        "    dim(y_train)\n",
        "    dim(y_test)\n",
        ""
      ],
      "metadata": {
        "id": "he6lOChvBH93"
      },
      "execution_count": null,
      "outputs": []
    },
    {
      "cell_type": "code",
      "source": [
        "  max_words = 66128\n",
        "    embedding_dim = 600\n",
        "\n",
        "# bidirectional lstm model\n",
        "\n",
        "   model <- keras_model_sequential() %>%\n",
        "     layer_embedding(\n",
        "         input_dim = max_words + 1,\n",
        "         output_dim = embedding_dim ,\n",
        "         weights = list(embedding_matrix),\n",
        "         input_length = maxlen,\n",
        "         trainable = FALSE ) %>%\n",
        "    bidirectional(layer_lstm(units = 64,recurrent_dropout = 0.5, dropout =.5)) %>%\n",
        "    layer_dense(units = 5,  kernel_regularizer = regularizer_l2(0.001))\n",
        "\n",
        "    summary(model)\n",
        ""
      ],
      "metadata": {
        "id": "zzIhYyJ0BL4E"
      },
      "execution_count": null,
      "outputs": []
    },
    {
      "cell_type": "code",
      "source": [
        "\n",
        "# for continouse y-variable\n",
        "    model %>% compile(\n",
        "        optimizer = \"rmsprop\",\n",
        "        loss = \"mse\",\n",
        "        metrics = c(\"mae\")\n",
        "    )\n",
        "    history <- model %>% fit(\n",
        "      x_train,\n",
        "      y_train,\n",
        "      epochs =9,\n",
        "      batch_size = 100,\n",
        "      validation_data = list(x_test, y_test)\n",
        "    )\n",
        "\n",
        "    plot(history)\n"
      ],
      "metadata": {
        "id": "YlJSd0kIBPyK"
      },
      "execution_count": null,
      "outputs": []
    },
    {
      "cell_type": "code",
      "source": [
        "\n",
        "    results <-  model %>% evaluate(x_test, y_test)\n",
        "    predictions <-  model %>% predict(x_test)\n",
        "    results\n",
        "\n",
        "    cbind(predictions, y_test) %>%  corr.test()\n",
        "\n",
        "    ggplot(\n",
        "        data = data.frame(\n",
        "            cbind(y_test, y_pred = predictions[ , 1])\n",
        "            ),\n",
        "        aes(x = y_test, y = y_pred) ) +\n",
        "        geom_point( alpha = 1/2) +\n",
        "        geom_smooth(method = \"lm\") +\n",
        "        geom_smooth(color = \"red\")\n",
        "\n",
        "   resp2[indices[test_indices], ] %>%\n",
        "       cbind(predictions) %>%\n",
        "       select(Código, Ma_measure, y_theta_z, predictions) %>%\n",
        "       group_by(Código) %>%\n",
        "       summarise_all(.funs = mean) %>%\n",
        "       select(-Código) %>%\n",
        "       ggplot(aes(x = Ma_measure, y = predictions) ) +\n",
        "        geom_point( alpha = 1/2) +\n",
        "        geom_smooth(method = \"lm\") +\n",
        "        geom_smooth(color = \"red\")\n",
        "\n",
        "\n",
        "    resp2[indices[test_indices], ] %>%\n",
        "       cbind(predictions) %>%\n",
        "       select(Código, Ma_measure, y_theta_z, predictions) %>%\n",
        "       group_by(Código) %>%\n",
        "       summarise_all(.funs = mean) %>%\n",
        "       select(-Código) %>%\n",
        "       corr.test()\n",
        "\n",
        "\n",
        "    results <- model %>% evaluate(x_train, y_train)\n",
        "    predictions <- model %>% predict(x_train)\n",
        "    cor(predictions, y_train)\n",
        "\n",
        "    ggplot(\n",
        "        data = data.frame(\n",
        "            cbind(y_train, y_pred = predictions[ , 1])\n",
        "            ),\n",
        "        aes(x = y_train, y = y_pred) ) +\n",
        "        geom_point( alpha = 1/2) +\n",
        "        geom_smooth(color = \"orange\") +\n",
        "        geom_smooth(method = \"lm\")\n",
        "\n"
      ],
      "metadata": {
        "id": "fzkQZjTCBU2x"
      },
      "execution_count": null,
      "outputs": []
    }
  ]
}