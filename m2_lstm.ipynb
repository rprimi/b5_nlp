{
  "nbformat": 4,
  "nbformat_minor": 0,
  "metadata": {
    "colab": {
      "provenance": [],
      "machine_shape": "hm",
      "gpuType": "V100",
      "authorship_tag": "ABX9TyMbu4uBocP8gg7ta0noAhHW",
      "include_colab_link": true
    },
    "kernelspec": {
      "name": "ir",
      "display_name": "R"
    },
    "language_info": {
      "name": "R"
    },
    "accelerator": "GPU"
  },
  "cells": [
    {
      "cell_type": "markdown",
      "metadata": {
        "id": "view-in-github",
        "colab_type": "text"
      },
      "source": [
        "<a href=\"https://colab.research.google.com/github/rprimi/b5_nlp/blob/main/m2_lstm.ipynb\" target=\"_parent\"><img src=\"https://colab.research.google.com/assets/colab-badge.svg\" alt=\"Open In Colab\"/></a>"
      ]
    },
    {
      "cell_type": "code",
      "source": [
        "pacakges <- c(\"tidyverse\", \"keras\", \"psych\")\n",
        "install.packages(pacakges)\n",
        "\n",
        "install.packages(\"readr\")\n",
        "install.packages(\"zip\")\n"
      ],
      "metadata": {
        "colab": {
          "base_uri": "https://localhost:8080/"
        },
        "id": "zu3HAEog7BsJ",
        "outputId": "e3597acc-e437-475b-8846-74582bb79d12"
      },
      "execution_count": 9,
      "outputs": [
        {
          "output_type": "stream",
          "name": "stderr",
          "text": [
            "Installing package into ‘/usr/local/lib/R/site-library’\n",
            "(as ‘lib’ is unspecified)\n",
            "\n"
          ]
        }
      ]
    },
    {
      "cell_type": "code",
      "execution_count": 10,
      "metadata": {
        "colab": {
          "base_uri": "https://localhost:8080/"
        },
        "id": "wMnn2iO95jpK",
        "outputId": "b1cb1015-5c10-436b-ca35-aebd1a9ccc58"
      },
      "outputs": [
        {
          "output_type": "stream",
          "name": "stderr",
          "text": [
            "\n",
            "Attaching package: ‘zip’\n",
            "\n",
            "\n",
            "The following objects are masked from ‘package:utils’:\n",
            "\n",
            "    unzip, zip\n",
            "\n",
            "\n"
          ]
        }
      ],
      "source": [
        "library(tidyverse)\n",
        "library(keras)\n",
        "library(psych)\n",
        "library(readr)\n",
        "library(zip)\n"
      ]
    },
    {
      "cell_type": "code",
      "source": [
        "load(\"base_bfi_nlp.RData\")"
      ],
      "metadata": {
        "id": "u179Fq4m8HUe"
      },
      "execution_count": 4,
      "outputs": []
    },
    {
      "cell_type": "code",
      "source": [
        "samples <- db_textos_splited$texto_dividido\n",
        "\n",
        "tokenizer <- text_tokenizer(\n",
        "    lower = TRUE )  %>%\n",
        "    fit_text_tokenizer(samples)\n",
        "\n",
        "word_index <- tokenizer$word_index\n",
        "\n",
        "sequences <- texts_to_sequences(tokenizer, samples)\n",
        "\n",
        "cat(\"Found\", length(word_index), \"unique tokens.\\n\")\n",
        ""
      ],
      "metadata": {
        "id": "JpE1zzRI8YIM"
      },
      "execution_count": null,
      "outputs": []
    },
    {
      "cell_type": "code",
      "source": [
        "library(zip)\n",
        "\n",
        "# Download the zip file\n",
        "download.file(\"http://143.107.183.175:22980/download.php?file=embeddings/glove/glove_s600.zip\", destfile = \"file.zip\")\n",
        "\n",
        "# Read the CSV file from the zip file\n",
        "glove_pt_600 <- read.zip(\"file.zip\", \"file.csv\")\n",
        "\n"
      ],
      "metadata": {
        "id": "zmOriJcI8ptj"
      },
      "execution_count": null,
      "outputs": []
    },
    {
      "cell_type": "code",
      "source": [
        " load(\"nilc_wv_glove_600d.RData\")\n",
        " ls()\n",
        "\n",
        "\n",
        " glove_pt_600 = data.table::fread(\n",
        "    file = \"~/Downloads/glove_s600.txt\",\n",
        "    encoding = 'UTF-8',\n",
        "    # nrows = 100,\n",
        "    skip = 1\n",
        "  )\n",
        "\n",
        "  db_textos_embeddings <- db_textos_splited %>%\n",
        "    unnest_tokens(word, texto_dividido) %>%\n",
        "    left_join(glove_pt_600, by =c(\"word\"=\"V1\")) %>%\n",
        "    select(-word) %>%\n",
        "    group_by(id, id_divisao) %>%\n",
        "    dplyr::summarise(\n",
        "    across(V2:V601, mean, na.rm=TRUE)\n",
        ")"
      ],
      "metadata": {
        "id": "hbWg602w-ZwS"
      },
      "execution_count": null,
      "outputs": []
    },
    {
      "cell_type": "code",
      "source": [],
      "metadata": {
        "id": "zzM0nd-D-ver"
      },
      "execution_count": null,
      "outputs": []
    }
  ]
}